{
 "cells": [
  {
   "cell_type": "code",
   "execution_count": 1,
   "metadata": {},
   "outputs": [],
   "source": [
    "import mysql.connector"
   ]
  },
  {
   "cell_type": "code",
   "execution_count": 2,
   "metadata": {},
   "outputs": [],
   "source": [
    "from mysql.connector import Error"
   ]
  },
  {
   "cell_type": "code",
   "execution_count": 3,
   "metadata": {},
   "outputs": [],
   "source": [
    "import pandas as pd"
   ]
  },
  {
   "cell_type": "code",
   "execution_count": 4,
   "metadata": {},
   "outputs": [
    {
     "name": "stdout",
     "output_type": "stream",
     "text": [
      "MySQL Database connection successful\n"
     ]
    }
   ],
   "source": [
    "def create_server_connection(host_name,user_name,user_password):\n",
    "    connection = None\n",
    "    try:\n",
    "        connection = mysql.connector.connect(\n",
    "            host = host_name,\n",
    "            user = user_name,\n",
    "            passwd = user_password)\n",
    "        print('MySQL Database connection successful')\n",
    "    except Error :\n",
    "        print(f'Error: \"{Error}\"')\n",
    "    return connection\n",
    "\n",
    "#put mysql terminal sql password\n",
    "\n",
    "pw = \"PASSWORD\"\n",
    "\n",
    "db = \"companydatabase\"\n",
    "\n",
    "connection = create_server_connection(\"localhost\",\"root\",pw)"
   ]
  },
  {
   "cell_type": "code",
   "execution_count": 5,
   "metadata": {},
   "outputs": [
    {
     "name": "stdout",
     "output_type": "stream",
     "text": [
      "Database created successfully\n"
     ]
    }
   ],
   "source": [
    "def create_database(connection,query):\n",
    "    cursor = connection.cursor()\n",
    "    try:\n",
    "        cursor.execute(query)\n",
    "        print(\"Database created successfully\")\n",
    "        \n",
    "    except Error :\n",
    "        print(f\"Error: '{Error}'\")\n",
    "create_database_query = \"Create database companydatabase\"\n",
    "create_database(connection,create_database_query)"
   ]
  },
  {
   "cell_type": "code",
   "execution_count": 6,
   "metadata": {},
   "outputs": [],
   "source": [
    "def create_db_connection(host_name, user_name, user_password,db_name):\n",
    "    connection = None\n",
    "    try:\n",
    "        connection = mysql.connector.connect(\n",
    "            host = host_name,\n",
    "            user = user_name,\n",
    "            passwd = user_password,\n",
    "            database = db_name)\n",
    "        print(\"MySQL database connection successful\")\n",
    "    except Error:\n",
    "        print(f\"Error : '{Error}'\")\n",
    "    return connection"
   ]
  },
  {
   "cell_type": "code",
   "execution_count": 7,
   "metadata": {},
   "outputs": [],
   "source": [
    "def execute_query(connection,query):\n",
    "    cursor = connection.cursor()\n",
    "    try:\n",
    "        cursor.execute(query)\n",
    "        connection.commit()\n",
    "        print(\"query was successful\")\n",
    "    except Error:\n",
    "        print(f\"Error: '{Error}'\")\n",
    "        "
   ]
  },
  {
   "cell_type": "code",
   "execution_count": 56,
   "metadata": {},
   "outputs": [],
   "source": [
    "def read_query(connection,query):\n",
    "    cursor = connection.cursor()\n",
    "    result = None\n",
    "    try:\n",
    "        cursor.execute(query)\n",
    "        result = cursor.fetchall()\n",
    "        return result\n",
    "    except Error:\n",
    "        print(f\"Error: '{Error}'\")"
   ]
  },
  {
   "cell_type": "code",
   "execution_count": 8,
   "metadata": {},
   "outputs": [
    {
     "name": "stdout",
     "output_type": "stream",
     "text": [
      "MySQL database connection successful\n",
      "query was successful\n"
     ]
    }
   ],
   "source": [
    "create_employee_table = '''\n",
    "CREATE TABLE employee (\n",
    "  emp_id INT PRIMARY KEY,\n",
    "  first_name VARCHAR(40),\n",
    "  last_name VARCHAR(40),\n",
    "  birth_day DATE,\n",
    "  sex VARCHAR(1),\n",
    "  salary INT,\n",
    "  emp_phone_no VARCHAR(40),\n",
    "  super_id INT,\n",
    "  branch_id INT\n",
    ");\n",
    "'''\n",
    "\n",
    "connection = create_db_connection(\"localhost\",\"root\",pw,db)\n",
    "execute_query(connection,create_employee_table)"
   ]
  },
  {
   "cell_type": "code",
   "execution_count": 9,
   "metadata": {},
   "outputs": [
    {
     "name": "stdout",
     "output_type": "stream",
     "text": [
      "MySQL database connection successful\n",
      "query was successful\n"
     ]
    }
   ],
   "source": [
    "create_branch_table = '''\n",
    "CREATE TABLE branch (\n",
    "  branch_id INT PRIMARY KEY,\n",
    "  branch_name VARCHAR(40),\n",
    "  mgr_id INT,\n",
    "  mgr_start_date DATE,\n",
    "  FOREIGN KEY(mgr_id) REFERENCES employee(emp_id) ON DELETE SET NULL\n",
    ");\n",
    "\n",
    "'''\n",
    "\n",
    "connection = create_db_connection(\"localhost\",\"root\",pw,db)\n",
    "execute_query(connection,create_branch_table)"
   ]
  },
  {
   "cell_type": "code",
   "execution_count": 10,
   "metadata": {},
   "outputs": [
    {
     "name": "stdout",
     "output_type": "stream",
     "text": [
      "MySQL database connection successful\n",
      "query was successful\n"
     ]
    }
   ],
   "source": [
    "alter_emp_table = '''\n",
    "ALTER TABLE employee\n",
    "ADD FOREIGN KEY(branch_id)\n",
    "REFERENCES branch(branch_id)\n",
    "ON DELETE SET NULL;\n",
    "\n",
    "'''\n",
    "connection = create_db_connection(\"localhost\",\"root\",pw,db)\n",
    "execute_query(connection,alter_emp_table)\n"
   ]
  },
  {
   "cell_type": "code",
   "execution_count": 11,
   "metadata": {},
   "outputs": [
    {
     "name": "stdout",
     "output_type": "stream",
     "text": [
      "MySQL database connection successful\n",
      "query was successful\n"
     ]
    }
   ],
   "source": [
    "alter_emp_table = '''\n",
    "ALTER TABLE employee\n",
    "ADD FOREIGN KEY(super_id)\n",
    "REFERENCES employee(emp_id)\n",
    "ON DELETE SET NULL;\n",
    "'''\n",
    "connection = create_db_connection(\"localhost\",\"root\",pw,db)\n",
    "execute_query(connection,alter_emp_table)\n"
   ]
  },
  {
   "cell_type": "code",
   "execution_count": 12,
   "metadata": {},
   "outputs": [
    {
     "name": "stdout",
     "output_type": "stream",
     "text": [
      "MySQL database connection successful\n",
      "query was successful\n"
     ]
    }
   ],
   "source": [
    "create_client_table= '''\n",
    "CREATE TABLE client (\n",
    "  client_id INT PRIMARY KEY,\n",
    "  client_name VARCHAR(40),\n",
    "  branch_id INT,\n",
    "  client_phone_no VARCHAR(40),\n",
    "  FOREIGN KEY(branch_id) REFERENCES branch(branch_id) ON DELETE SET NULL\n",
    ");\n",
    "\n",
    "'''\n",
    "connection = create_db_connection(\"localhost\",\"root\",pw,db)\n",
    "execute_query(connection,create_client_table)\n"
   ]
  },
  {
   "cell_type": "code",
   "execution_count": 14,
   "metadata": {},
   "outputs": [
    {
     "name": "stdout",
     "output_type": "stream",
     "text": [
      "MySQL database connection successful\n",
      "query was successful\n"
     ]
    }
   ],
   "source": [
    "create_emp_client_table = '''\n",
    "CREATE TABLE emp_client (\n",
    "  emp_id INT,\n",
    "  client_id INT,\n",
    "  total_sales INT,\n",
    "  PRIMARY KEY(emp_id, client_id),\n",
    "  FOREIGN KEY(emp_id) REFERENCES employee(emp_id) ON DELETE CASCADE,\n",
    "  FOREIGN KEY(client_id) REFERENCES client(client_id) ON DELETE CASCADE\n",
    ");\n",
    "\n",
    "'''\n",
    "connection = create_db_connection(\"localhost\",\"root\",pw,db)\n",
    "execute_query(connection,create_emp_client_table)\n"
   ]
  },
  {
   "cell_type": "code",
   "execution_count": 16,
   "metadata": {},
   "outputs": [
    {
     "name": "stdout",
     "output_type": "stream",
     "text": [
      "MySQL database connection successful\n",
      "query was successful\n"
     ]
    }
   ],
   "source": [
    "create_branch_supplier_table = '''\n",
    "CREATE TABLE branch_supplier (\n",
    "  branch_id INT,\n",
    "  supplier_name VARCHAR(40),\n",
    "  supply_type VARCHAR(40),\n",
    "  PRIMARY KEY(branch_id, supplier_name),\n",
    "  FOREIGN KEY(branch_id) REFERENCES branch(branch_id) ON DELETE CASCADE\n",
    ");\n",
    "\n",
    "'''\n",
    "connection = create_db_connection(\"localhost\",\"root\",pw,db)\n",
    "execute_query(connection,create_branch_supplier_table)"
   ]
  },
  {
   "cell_type": "code",
   "execution_count": 17,
   "metadata": {},
   "outputs": [
    {
     "name": "stdout",
     "output_type": "stream",
     "text": [
      "MySQL database connection successful\n",
      "query was successful\n"
     ]
    }
   ],
   "source": [
    "insert_emp_table = '''\n",
    "INSERT INTO employee\n",
    "VALUES(\n",
    "1001,'Naman', 'Gupta', '1980-11-30', 'M', 220000, '7255429288', NULL, NULL);\n",
    "'''\n",
    "\n",
    "connection = create_db_connection(\"localhost\",\"root\",pw,db)\n",
    "execute_query(connection,insert_emp_table)"
   ]
  },
  {
   "cell_type": "code",
   "execution_count": 18,
   "metadata": {},
   "outputs": [
    {
     "name": "stdout",
     "output_type": "stream",
     "text": [
      "MySQL database connection successful\n",
      "query was successful\n"
     ]
    }
   ],
   "source": [
    "insert_emp_table = '''\n",
    "INSERT INTO employee VALUES\n",
    "(1002, 'Ashish', 'Goenka', '1992-10-15', 'M', 150000, '8962521123', NULL, NULL);\n",
    "\n",
    "'''\n",
    "connection = create_db_connection(\"localhost\",\"root\",pw,db)\n",
    "execute_query(connection,insert_emp_table)\n"
   ]
  },
  {
   "cell_type": "code",
   "execution_count": 19,
   "metadata": {},
   "outputs": [
    {
     "name": "stdout",
     "output_type": "stream",
     "text": [
      "MySQL database connection successful\n",
      "query was successful\n"
     ]
    }
   ],
   "source": [
    "insert_emp_table = '''\n",
    "INSERT INTO branch VALUES\n",
    "(501, 'Financial', 1001, '2000-05-01');\n",
    "'''\n",
    "connection = create_db_connection(\"localhost\",\"root\",pw,db)\n",
    "execute_query(connection,insert_emp_table)\n"
   ]
  },
  {
   "cell_type": "code",
   "execution_count": 20,
   "metadata": {},
   "outputs": [
    {
     "name": "stdout",
     "output_type": "stream",
     "text": [
      "MySQL database connection successful\n",
      "query was successful\n"
     ]
    }
   ],
   "source": [
    "update_emp_table = '''\n",
    "UPDATE employee \n",
    "SET branch_id = 501\n",
    "WHERE emp_id = 1001;\n",
    "\n",
    "'''\n",
    "connection = create_db_connection(\"localhost\",\"root\",pw,db)\n",
    "execute_query(connection,update_emp_table)\n"
   ]
  },
  {
   "cell_type": "code",
   "execution_count": 21,
   "metadata": {},
   "outputs": [
    {
     "name": "stdout",
     "output_type": "stream",
     "text": [
      "MySQL database connection successful\n",
      "query was successful\n"
     ]
    }
   ],
   "source": [
    "update_emp_table = '''\n",
    "UPDATE employee \n",
    "SET branch_id = 501\n",
    "WHERE emp_id = 1002;\n",
    "'''\n",
    "connection = create_db_connection(\"localhost\",\"root\",pw,db)\n",
    "execute_query(connection,update_emp_table)\n"
   ]
  },
  {
   "cell_type": "code",
   "execution_count": 22,
   "metadata": {},
   "outputs": [
    {
     "name": "stdout",
     "output_type": "stream",
     "text": [
      "MySQL database connection successful\n",
      "query was successful\n"
     ]
    }
   ],
   "source": [
    "insert_emp_table = '''\n",
    "INSERT INTO employee VALUES \n",
    "(1003,'Shruti', 'Saxena', '1978-08-13', 'F', 160000, '9123434353', NULL,NULL);\n",
    "'''\n",
    "connection = create_db_connection(\"localhost\",\"root\",pw,db)\n",
    "execute_query(connection,insert_emp_table)\n"
   ]
  },
  {
   "cell_type": "code",
   "execution_count": 23,
   "metadata": {},
   "outputs": [
    {
     "name": "stdout",
     "output_type": "stream",
     "text": [
      "MySQL database connection successful\n",
      "query was successful\n"
     ]
    }
   ],
   "source": [
    "insert_emp_table = '''\n",
    "INSERT INTO employee VALUES \n",
    "(1004, 'Monica', 'Biswas', '1985-09-12', 'F', 230000, '6216167200', NULL, NULL);\n",
    "'''\n",
    "connection = create_db_connection(\"localhost\",\"root\",pw,db)\n",
    "execute_query(connection,insert_emp_table)\n"
   ]
  },
  {
   "cell_type": "code",
   "execution_count": 24,
   "metadata": {},
   "outputs": [
    {
     "name": "stdout",
     "output_type": "stream",
     "text": [
      "MySQL database connection successful\n",
      "query was successful\n"
     ]
    }
   ],
   "source": [
    "insert_emp_table = '''\n",
    "INSERT INTO employee VALUES \n",
    "(1005, 'Madan', 'Verma', '1990-06-01', 'M', 145000, '8005090811', NULL, NULL);\n",
    "'''\n",
    "connection = create_db_connection(\"localhost\",\"root\",pw,db)\n",
    "execute_query(connection,insert_emp_table)\n"
   ]
  },
  {
   "cell_type": "code",
   "execution_count": 25,
   "metadata": {},
   "outputs": [
    {
     "name": "stdout",
     "output_type": "stream",
     "text": [
      "MySQL database connection successful\n",
      "query was successful\n"
     ]
    }
   ],
   "source": [
    "insert_branch_table = '''\n",
    "INSERT INTO BRANCH VALUES \n",
    "(502, 'Sales', NULL, '2002-06-12');\n",
    "'''\n",
    "\n",
    "connection = create_db_connection(\"localhost\",\"root\",pw,db)\n",
    "execute_query(connection,insert_branch_table)\n"
   ]
  },
  {
   "cell_type": "code",
   "execution_count": 26,
   "metadata": {},
   "outputs": [
    {
     "name": "stdout",
     "output_type": "stream",
     "text": [
      "MySQL database connection successful\n",
      "query was successful\n"
     ]
    }
   ],
   "source": [
    "update_emp_table = '''\n",
    "UPDATE employee\n",
    "SET branch_id = 502\n",
    "WHERE emp_id = 1003;\n",
    "\n",
    "'''\n",
    "connection = create_db_connection(\"localhost\",\"root\",pw,db)\n",
    "execute_query(connection,update_emp_table)\n"
   ]
  },
  {
   "cell_type": "code",
   "execution_count": 27,
   "metadata": {},
   "outputs": [
    {
     "name": "stdout",
     "output_type": "stream",
     "text": [
      "MySQL database connection successful\n",
      "query was successful\n"
     ]
    }
   ],
   "source": [
    "update_emp_table = '''\n",
    "UPDATE employee\n",
    "SET branch_id = 502\n",
    "WHERE emp_id = 1004;\n",
    "\n",
    "'''\n",
    "connection = create_db_connection(\"localhost\",\"root\",pw,db)\n",
    "execute_query(connection,update_emp_table)\n"
   ]
  },
  {
   "cell_type": "code",
   "execution_count": 28,
   "metadata": {},
   "outputs": [
    {
     "name": "stdout",
     "output_type": "stream",
     "text": [
      "MySQL database connection successful\n",
      "query was successful\n"
     ]
    }
   ],
   "source": [
    "update_emp_table = '''\n",
    "UPDATE employee\n",
    "SET branch_id = 502\n",
    "WHERE emp_id = 1005;\n",
    "'''\n",
    "connection = create_db_connection(\"localhost\",\"root\",pw,db)\n",
    "execute_query(connection,update_emp_table)\n"
   ]
  },
  {
   "cell_type": "code",
   "execution_count": 29,
   "metadata": {},
   "outputs": [
    {
     "name": "stdout",
     "output_type": "stream",
     "text": [
      "MySQL database connection successful\n",
      "query was successful\n"
     ]
    }
   ],
   "source": [
    "update_branch_table = '''\n",
    "UPDATE branch\n",
    "SET mgr_id = 1004\n",
    "WHERE branch_id = 502;\n",
    "'''\n",
    "connection = create_db_connection(\"localhost\",\"root\",pw,db)\n",
    "execute_query(connection,update_branch_table)\n"
   ]
  },
  {
   "cell_type": "code",
   "execution_count": 30,
   "metadata": {},
   "outputs": [
    {
     "name": "stdout",
     "output_type": "stream",
     "text": [
      "MySQL database connection successful\n",
      "query was successful\n"
     ]
    }
   ],
   "source": [
    "insert_emp_table = '''\n",
    "INSERT INTO employee VALUES \n",
    "(1006, 'Neha', 'Jaiswal', '1987-07-12', 'F', 180000, '9206704288', NULL, NULL);\n",
    "'''\n",
    "connection = create_db_connection(\"localhost\",\"root\",pw,db)\n",
    "execute_query(connection,insert_emp_table)"
   ]
  },
  {
   "cell_type": "code",
   "execution_count": 31,
   "metadata": {},
   "outputs": [
    {
     "name": "stdout",
     "output_type": "stream",
     "text": [
      "MySQL database connection successful\n",
      "query was successful\n"
     ]
    }
   ],
   "source": [
    "insert_emp_table = '''\n",
    "INSERT INTO employee VALUES \n",
    "(1007, 'Ayush', 'Tripathi', '1985-11-22', 'M', 150000, '9142526291', NULL, NULL);\n",
    "'''\n",
    "connection = create_db_connection(\"localhost\",\"root\",pw,db)\n",
    "execute_query(connection,insert_emp_table)"
   ]
  },
  {
   "cell_type": "code",
   "execution_count": 32,
   "metadata": {},
   "outputs": [
    {
     "name": "stdout",
     "output_type": "stream",
     "text": [
      "MySQL database connection successful\n",
      "query was successful\n"
     ]
    }
   ],
   "source": [
    "insert_branch_table = '''\n",
    "INSERT INTO branch VALUES\n",
    "(503, 'Human Resource', 1006, '2001-07-13');\n",
    "'''\n",
    "connection = create_db_connection(\"localhost\",\"root\",pw,db)\n",
    "execute_query(connection,insert_branch_table)"
   ]
  },
  {
   "cell_type": "code",
   "execution_count": 33,
   "metadata": {},
   "outputs": [
    {
     "name": "stdout",
     "output_type": "stream",
     "text": [
      "MySQL database connection successful\n",
      "query was successful\n"
     ]
    }
   ],
   "source": [
    "update_emp_table = '''\n",
    "UPDATE employee\n",
    "SET branch_id = 503\n",
    "WHERE emp_id = 1006;\n",
    "'''\n",
    "connection = create_db_connection(\"localhost\",\"root\",pw,db)\n",
    "execute_query(connection,update_emp_table)"
   ]
  },
  {
   "cell_type": "code",
   "execution_count": 34,
   "metadata": {},
   "outputs": [
    {
     "name": "stdout",
     "output_type": "stream",
     "text": [
      "MySQL database connection successful\n",
      "query was successful\n"
     ]
    }
   ],
   "source": [
    "update_emp_table = '''\n",
    "UPDATE employee\n",
    "SET branch_id = 503\n",
    "WHERE emp_id = 1007;\n",
    "\n",
    "'''\n",
    "connection = create_db_connection(\"localhost\",\"root\",pw,db)\n",
    "execute_query(connection,update_emp_table)"
   ]
  },
  {
   "cell_type": "code",
   "execution_count": 35,
   "metadata": {},
   "outputs": [
    {
     "name": "stdout",
     "output_type": "stream",
     "text": [
      "MySQL database connection successful\n",
      "query was successful\n"
     ]
    }
   ],
   "source": [
    "insert_emp_table = '''\n",
    "INSERT INTO employee VALUES \n",
    "(1008, 'Ishaan', 'Gupta', '1999-10-12', 'M', 230000, '7846728192', NULL, NULL);\n",
    "'''\n",
    "connection = create_db_connection(\"localhost\",\"root\",pw,db)\n",
    "execute_query(connection,insert_emp_table)"
   ]
  },
  {
   "cell_type": "code",
   "execution_count": 36,
   "metadata": {},
   "outputs": [
    {
     "name": "stdout",
     "output_type": "stream",
     "text": [
      "MySQL database connection successful\n",
      "query was successful\n"
     ]
    }
   ],
   "source": [
    "insert_emp_table = '''\n",
    "INSERT INTO employee VALUES \n",
    "(1009, 'Rashmi', 'Rajput', '2000-01-30', 'F', 140000, '7516128292', NULL, NULL);\n",
    "'''\n",
    "connection = create_db_connection(\"localhost\",\"root\",pw,db)\n",
    "execute_query(connection,insert_emp_table)"
   ]
  },
  {
   "cell_type": "code",
   "execution_count": 37,
   "metadata": {},
   "outputs": [
    {
     "name": "stdout",
     "output_type": "stream",
     "text": [
      "MySQL database connection successful\n",
      "query was successful\n"
     ]
    }
   ],
   "source": [
    "insert_branch_table = '''\n",
    "INSERT INTO branch VALUES \n",
    "(504,'Marketing', 1008, '2010-01-11');\n",
    "\n",
    "'''\n",
    "connection = create_db_connection(\"localhost\",\"root\",pw,db)\n",
    "execute_query(connection,insert_branch_table)"
   ]
  },
  {
   "cell_type": "code",
   "execution_count": 38,
   "metadata": {},
   "outputs": [
    {
     "name": "stdout",
     "output_type": "stream",
     "text": [
      "MySQL database connection successful\n",
      "query was successful\n"
     ]
    }
   ],
   "source": [
    "update_emp_table = '''\n",
    "UPDATE employee\n",
    "SET branch_id = 504\n",
    "WHERE emp_id = 1008;\n",
    "'''\n",
    "connection = create_db_connection(\"localhost\",\"root\",pw,db)\n",
    "execute_query(connection,update_emp_table)"
   ]
  },
  {
   "cell_type": "code",
   "execution_count": 39,
   "metadata": {},
   "outputs": [
    {
     "name": "stdout",
     "output_type": "stream",
     "text": [
      "MySQL database connection successful\n",
      "query was successful\n"
     ]
    }
   ],
   "source": [
    "update_emp_table = '''\n",
    "UPDATE employee\n",
    "SET branch_id = 504\n",
    "WHERE emp_id = 1009;\n",
    "'''\n",
    "connection = create_db_connection(\"localhost\",\"root\",pw,db)\n",
    "execute_query(connection,update_emp_table)"
   ]
  },
  {
   "cell_type": "code",
   "execution_count": 40,
   "metadata": {},
   "outputs": [
    {
     "name": "stdout",
     "output_type": "stream",
     "text": [
      "MySQL database connection successful\n",
      "query was successful\n"
     ]
    }
   ],
   "source": [
    "insert_emp_table = '''\n",
    "INSERT INTO employee VALUES \n",
    "(1010, 'Vinay', 'Goyal', '1984-05-02', 'M', 125000, '7891221692', NULL, NULL);\n",
    "'''\n",
    "connection = create_db_connection(\"localhost\",\"root\",pw,db)\n",
    "execute_query(connection,insert_emp_table)"
   ]
  },
  {
   "cell_type": "code",
   "execution_count": 41,
   "metadata": {},
   "outputs": [
    {
     "name": "stdout",
     "output_type": "stream",
     "text": [
      "MySQL database connection successful\n",
      "query was successful\n"
     ]
    }
   ],
   "source": [
    "insert_branch_table ='''\n",
    "INSERT INTO branch VALUES \n",
    "(505, 'IT', 1010, '2000-06-12');\n",
    "\n",
    "'''\n",
    "connection = create_db_connection(\"localhost\",\"root\",pw,db)\n",
    "execute_query(connection,insert_branch_table)"
   ]
  },
  {
   "cell_type": "code",
   "execution_count": 42,
   "metadata": {},
   "outputs": [
    {
     "name": "stdout",
     "output_type": "stream",
     "text": [
      "MySQL database connection successful\n",
      "query was successful\n"
     ]
    }
   ],
   "source": [
    "update_emp_table = '''\n",
    "UPDATE employee\n",
    "SET branch_id = 505\n",
    "WHERE emp_id = 1010;\n",
    "'''\n",
    "connection = create_db_connection(\"localhost\",\"root\",pw,db)\n",
    "execute_query(connection,update_emp_table)"
   ]
  },
  {
   "cell_type": "code",
   "execution_count": 43,
   "metadata": {},
   "outputs": [
    {
     "name": "stdout",
     "output_type": "stream",
     "text": [
      "MySQL database connection successful\n",
      "query was successful\n"
     ]
    }
   ],
   "source": [
    "update_emp_table = '''\n",
    "UPDATE employee\n",
    "SET super_id = 1004\n",
    "WHERE emp_id = 1001;\n",
    "'''\n",
    "connection = create_db_connection(\"localhost\",\"root\",pw,db)\n",
    "execute_query(connection,update_emp_table)"
   ]
  },
  {
   "cell_type": "code",
   "execution_count": 44,
   "metadata": {},
   "outputs": [
    {
     "name": "stdout",
     "output_type": "stream",
     "text": [
      "MySQL database connection successful\n",
      "query was successful\n"
     ]
    }
   ],
   "source": [
    "update_emp_table = '''\n",
    "UPDATE employee\n",
    "SET super_id = 1006\n",
    "WHERE emp_id = 1002;\n",
    "'''\n",
    "connection = create_db_connection(\"localhost\",\"root\",pw,db)\n",
    "execute_query(connection,update_emp_table)"
   ]
  },
  {
   "cell_type": "code",
   "execution_count": 45,
   "metadata": {},
   "outputs": [
    {
     "name": "stdout",
     "output_type": "stream",
     "text": [
      "MySQL database connection successful\n",
      "query was successful\n"
     ]
    }
   ],
   "source": [
    "update_emp_table = '''\n",
    "UPDATE employee\n",
    "SET super_id = 1004\n",
    "WHERE emp_id = 1003;\n",
    "'''\n",
    "connection = create_db_connection(\"localhost\",\"root\",pw,db)\n",
    "execute_query(connection,update_emp_table)"
   ]
  },
  {
   "cell_type": "code",
   "execution_count": 46,
   "metadata": {},
   "outputs": [
    {
     "name": "stdout",
     "output_type": "stream",
     "text": [
      "MySQL database connection successful\n",
      "query was successful\n"
     ]
    }
   ],
   "source": [
    "update_emp_table = '''\n",
    "UPDATE employee\n",
    "SET super_id = 1008\n",
    "WHERE emp_id = 1004;\n",
    "'''\n",
    "connection = create_db_connection(\"localhost\",\"root\",pw,db)\n",
    "execute_query(connection,update_emp_table)"
   ]
  },
  {
   "cell_type": "code",
   "execution_count": 47,
   "metadata": {},
   "outputs": [
    {
     "name": "stdout",
     "output_type": "stream",
     "text": [
      "MySQL database connection successful\n",
      "query was successful\n"
     ]
    }
   ],
   "source": [
    "update_emp_table = '''\n",
    "UPDATE employee\n",
    "SET super_id = 1008\n",
    "WHERE emp_id = 1005;\n",
    "'''\n",
    "connection = create_db_connection(\"localhost\",\"root\",pw,db)\n",
    "execute_query(connection,update_emp_table)"
   ]
  },
  {
   "cell_type": "code",
   "execution_count": 48,
   "metadata": {},
   "outputs": [
    {
     "name": "stdout",
     "output_type": "stream",
     "text": [
      "MySQL database connection successful\n",
      "query was successful\n"
     ]
    }
   ],
   "source": [
    "update_emp_table = '''\n",
    "UPDATE employee\n",
    "SET super_id = 1001\n",
    "WHERE emp_id = 1006;\n",
    "'''\n",
    "connection = create_db_connection(\"localhost\",\"root\",pw,db)\n",
    "execute_query(connection,update_emp_table)"
   ]
  },
  {
   "cell_type": "code",
   "execution_count": 49,
   "metadata": {},
   "outputs": [
    {
     "name": "stdout",
     "output_type": "stream",
     "text": [
      "MySQL database connection successful\n",
      "query was successful\n"
     ]
    }
   ],
   "source": [
    "update_emp_table = '''\n",
    "UPDATE employee\n",
    "SET super_id = 1004\n",
    "WHERE emp_id = 1007;\n",
    "''' \n",
    "\n",
    "connection = create_db_connection(\"localhost\",\"root\",pw,db)\n",
    "execute_query(connection,update_emp_table)"
   ]
  },
  {
   "cell_type": "code",
   "execution_count": 50,
   "metadata": {},
   "outputs": [
    {
     "name": "stdout",
     "output_type": "stream",
     "text": [
      "MySQL database connection successful\n",
      "query was successful\n"
     ]
    }
   ],
   "source": [
    "update_emp_table = '''\n",
    "UPDATE employee\n",
    "SET super_id = 1006\n",
    "WHERE emp_id = 1008;\n",
    "'''\n",
    "connection = create_db_connection(\"localhost\",\"root\",pw,db)\n",
    "execute_query(connection,update_emp_table)"
   ]
  },
  {
   "cell_type": "code",
   "execution_count": 51,
   "metadata": {},
   "outputs": [
    {
     "name": "stdout",
     "output_type": "stream",
     "text": [
      "MySQL database connection successful\n",
      "query was successful\n"
     ]
    }
   ],
   "source": [
    "update_emp_table = '''\n",
    "UPDATE employee\n",
    "SET super_id = 1006\n",
    "WHERE emp_id = 1009;\n",
    "\n",
    "'''\n",
    "connection = create_db_connection(\"localhost\",\"root\",pw,db)\n",
    "execute_query(connection,update_emp_table)"
   ]
  },
  {
   "cell_type": "code",
   "execution_count": 52,
   "metadata": {},
   "outputs": [
    {
     "name": "stdout",
     "output_type": "stream",
     "text": [
      "MySQL database connection successful\n",
      "query was successful\n"
     ]
    }
   ],
   "source": [
    "update_emp_table = '''\n",
    "UPDATE employee\n",
    "SET super_id = 1001\n",
    "WHERE emp_id = 1010;\n",
    "'''\n",
    "connection = create_db_connection(\"localhost\",\"root\",pw,db)\n",
    "execute_query(connection,update_emp_table)"
   ]
  },
  {
   "cell_type": "code",
   "execution_count": 53,
   "metadata": {},
   "outputs": [
    {
     "name": "stdout",
     "output_type": "stream",
     "text": [
      "MySQL database connection successful\n",
      "query was successful\n"
     ]
    }
   ],
   "source": [
    "insert_client_table = '''\n",
    "INSERT INTO client VALUES\n",
    "(601, 'Abhinac Shukla', 502, '7112223300'),\n",
    "(602, 'Raghav Singhania', 502, '8123469200'),\n",
    "(603, 'Smriti Verma', 503, '9120461292'),\n",
    "(604, 'Alok Yadav', 504, '9126126276'),\n",
    "(605, 'Subham Singh', 503, '6162170280'),\n",
    "(606, 'Rahul Gupta', 502, '7896543210'),\n",
    "(607, 'Mansi Singh', 504, '8846107259'),\n",
    "(608, 'Rakshika Rana', 504, '9120409020');  \n",
    "'''\n",
    "connection = create_db_connection(\"localhost\",\"root\",pw,db)\n",
    "execute_query(connection,insert_client_table)"
   ]
  },
  {
   "cell_type": "code",
   "execution_count": 54,
   "metadata": {},
   "outputs": [
    {
     "name": "stdout",
     "output_type": "stream",
     "text": [
      "MySQL database connection successful\n",
      "query was successful\n"
     ]
    }
   ],
   "source": [
    "insert_emp_client_table = '''\n",
    "INSERT INTO emp_client VALUES\n",
    "(1003, 601, 50000),\n",
    "(1004, 601, 100000),\n",
    "(1005, 602, 80000),\n",
    "(1006, 603, 60000),\n",
    "(1007, 603, 75000),\n",
    "(1008, 604, 68000),\n",
    "(1009, 604, 43000),\n",
    "(1006, 605, 40000),\n",
    "(1003, 606, 57000),\n",
    "(1005, 606, 62000),\n",
    "(1008, 607, 70000),\n",
    "(1008, 608, 76000),\n",
    "(1009, 608, 80000);\n",
    "'''\n",
    "connection = create_db_connection(\"localhost\",\"root\",pw,db)\n",
    "execute_query(connection,insert_emp_client_table)"
   ]
  },
  {
   "cell_type": "code",
   "execution_count": 55,
   "metadata": {},
   "outputs": [
    {
     "name": "stdout",
     "output_type": "stream",
     "text": [
      "MySQL database connection successful\n",
      "query was successful\n"
     ]
    }
   ],
   "source": [
    "insert_branch_supplier_table = '''\n",
    "INSERT INTO branch_supplier VALUES\n",
    "(501, 'Surya Papers', 'Paper'),\n",
    "(501, 'Malti Electronics', 'Gadgets'),\n",
    "(502, 'Royal Papers', 'Paper'),\n",
    "(502, 'JT Forms and Labels', 'Custom Forms'),\n",
    "(503, 'Royal Papers', 'Paper'),\n",
    "(504, 'Surya Papers', 'Paper'),\n",
    "(504, 'JT Forms and Labels', 'Custom Forms'),\n",
    "(505, 'Malti Electronics', 'Gadgets'),\n",
    "(505, 'Ashish Electronics', 'Gadgets');\n",
    "'''\n",
    "connection = create_db_connection(\"localhost\",\"root\",pw,db)\n",
    "execute_query(connection,insert_branch_supplier_table)"
   ]
  },
  {
   "cell_type": "code",
   "execution_count": 58,
   "metadata": {},
   "outputs": [
    {
     "name": "stdout",
     "output_type": "stream",
     "text": [
      "MySQL database connection successful\n",
      "(1001, 'Naman', 'Gupta', datetime.date(1980, 11, 30), 'M', 220000, '7255429288', 1004, 501)\n",
      "(1002, 'Ashish', 'Goenka', datetime.date(1992, 10, 15), 'M', 150000, '8962521123', 1006, 501)\n",
      "(1003, 'Shruti', 'Saxena', datetime.date(1978, 8, 13), 'F', 160000, '9123434353', 1004, 502)\n",
      "(1004, 'Monica', 'Biswas', datetime.date(1985, 9, 12), 'F', 230000, '6216167200', 1008, 502)\n",
      "(1005, 'Madan', 'Verma', datetime.date(1990, 6, 1), 'M', 145000, '8005090811', 1008, 502)\n",
      "(1006, 'Neha', 'Jaiswal', datetime.date(1987, 7, 12), 'F', 180000, '9206704288', 1001, 503)\n",
      "(1007, 'Ayush', 'Tripathi', datetime.date(1985, 11, 22), 'M', 150000, '9142526291', 1004, 503)\n",
      "(1008, 'Ishaan', 'Gupta', datetime.date(1999, 10, 12), 'M', 230000, '7846728192', 1006, 504)\n",
      "(1009, 'Rashmi', 'Rajput', datetime.date(2000, 1, 30), 'F', 140000, '7516128292', 1006, 504)\n",
      "(1010, 'Vinay', 'Goyal', datetime.date(1984, 5, 2), 'M', 125000, '7891221692', 1001, 505)\n"
     ]
    }
   ],
   "source": [
    "show_emp_table = '''\n",
    "select *\n",
    "from employee;\n",
    "'''\n",
    "connection = create_db_connection(\"localhost\",\"root\",pw,db)\n",
    "results = read_query(connection,show_emp_table)\n",
    "for result in results:\n",
    "    print(result)"
   ]
  },
  {
   "cell_type": "code",
   "execution_count": 1,
   "metadata": {},
   "outputs": [
    {
     "ename": "NameError",
     "evalue": "name 'results' is not defined",
     "output_type": "error",
     "traceback": [
      "\u001b[1;31m---------------------------------------------------------------------------\u001b[0m",
      "\u001b[1;31mNameError\u001b[0m                                 Traceback (most recent call last)",
      "\u001b[1;32m<ipython-input-1-9c3dd25700b5>\u001b[0m in \u001b[0;36m<module>\u001b[1;34m\u001b[0m\n\u001b[0;32m      1\u001b[0m \u001b[0mfrom_db\u001b[0m \u001b[1;33m=\u001b[0m \u001b[1;33m[\u001b[0m\u001b[1;33m]\u001b[0m\u001b[1;33m\u001b[0m\u001b[1;33m\u001b[0m\u001b[0m\n\u001b[0;32m      2\u001b[0m \u001b[1;33m\u001b[0m\u001b[0m\n\u001b[1;32m----> 3\u001b[1;33m \u001b[1;32mfor\u001b[0m \u001b[0mresult\u001b[0m \u001b[1;32min\u001b[0m \u001b[0mresults\u001b[0m\u001b[1;33m:\u001b[0m\u001b[1;33m\u001b[0m\u001b[1;33m\u001b[0m\u001b[0m\n\u001b[0m\u001b[0;32m      4\u001b[0m     \u001b[0mresult\u001b[0m \u001b[1;33m=\u001b[0m \u001b[0mlist\u001b[0m\u001b[1;33m(\u001b[0m\u001b[0mresult\u001b[0m\u001b[1;33m)\u001b[0m\u001b[1;33m\u001b[0m\u001b[1;33m\u001b[0m\u001b[0m\n\u001b[0;32m      5\u001b[0m     \u001b[0mfrom_db\u001b[0m\u001b[1;33m.\u001b[0m\u001b[0mappend\u001b[0m\u001b[1;33m(\u001b[0m\u001b[0mresult\u001b[0m\u001b[1;33m)\u001b[0m\u001b[1;33m\u001b[0m\u001b[1;33m\u001b[0m\u001b[0m\n",
      "\u001b[1;31mNameError\u001b[0m: name 'results' is not defined"
     ]
    }
   ],
   "source": [
    "from_db = []\n",
    "\n",
    "for result in results:\n",
    "    result = list(result)\n",
    "    from_db.append(result)\n",
    "columns = ['emp_id', 'first_name', 'last_name', 'birth_day', 'sex', 'salary', 'emp_phone_no', 'super_id','branch_id']\n",
    "\n",
    "df = pd.DataFrame(from_db, columns = columns)\n",
    "\n",
    "display(df)"
   ]
  },
  {
   "cell_type": "code",
   "execution_count": null,
   "metadata": {},
   "outputs": [],
   "source": []
  }
 ],
 "metadata": {
  "kernelspec": {
   "display_name": "Python 3",
   "language": "python",
   "name": "python3"
  },
  "language_info": {
   "codemirror_mode": {
    "name": "ipython",
    "version": 3
   },
   "file_extension": ".py",
   "mimetype": "text/x-python",
   "name": "python",
   "nbconvert_exporter": "python",
   "pygments_lexer": "ipython3",
   "version": "3.7.4"
  }
 },
 "nbformat": 4,
 "nbformat_minor": 2
}
